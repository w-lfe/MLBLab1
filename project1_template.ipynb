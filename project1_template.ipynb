{
 "cells": [
  {
   "cell_type": "code",
   "execution_count": 2,
   "id": "4084fe0a-5bc2-4b5c-8850-efb2e3e96e87",
   "metadata": {},
   "outputs": [],
   "source": [
    "# Libary imports can go here. As always, you can import more as needed!\n",
    "import pandas as pd\n",
    "import numpy as np\n",
    "\n",
    "import matplotlib.pyplot as plt\n",
    "import seaborn as sns\n",
    "\n",
    "from sklearn.model_selection import train_test_split\n",
    "from sklearn.preprocessing import StandardScaler, LabelEncoder\n",
    "from sklearn.ensemble import RandomForestClassifier\n",
    "from sklearn.metrics import accuracy_score, classification_report, confusion_matrix"
   ]
  },
  {
   "cell_type": "code",
   "execution_count": 3,
   "id": "28018514-9cc4-4327-9438-6a06c7d83e6f",
   "metadata": {
    "scrolled": true
   },
   "outputs": [],
   "source": [
    "# Loads the file\n",
    "file = \"corrupted_titanic_data.csv\"\n",
    "df = pd.read_csv(file)"
   ]
  },
  {
   "cell_type": "code",
   "execution_count": 4,
   "id": "d5459db6-fc1e-4d32-83cf-82b17ead58ff",
   "metadata": {
    "scrolled": true
   },
   "outputs": [
    {
     "name": "stdout",
     "output_type": "stream",
     "text": [
      "\n",
      "=== After Dropping Nulls ===\n",
      "Shape: (117, 17)\n",
      "   survived  pclass     sex    age  sibsp  parch        fare embarked   class  \\\n",
      "0         1       1  female  420.0      1      0   53.284868        S   First   \n",
      "1         0       1    male   54.0      0      0   51.314334        S   First   \n",
      "2         1       2    male   34.0      0      0   13.553364        s  Second   \n",
      "3         0       1    male   19.0      3      2  263.176986        s   First   \n",
      "4         1       1  FEMALE   23.0      3      2  262.789833        C   First   \n",
      "\n",
      "     who  adult_male deck  embark_town alive  alone  pclass_redundant  \\\n",
      "0  woman       False    C  Southampton   yes  False                 1   \n",
      "1    man        True    E  Southampton    no   True                 1   \n",
      "2    man        True    D  Southampton   yes   True                 2   \n",
      "3    man        True    C  Southampton    no  False                 1   \n",
      "4  woman       False    C  Southampton   yes  False                 1   \n",
      "\n",
      "   fare_age_combination  \n",
      "0          22379.644511  \n",
      "1           2770.974017  \n",
      "2            460.814361  \n",
      "3           5000.362740  \n",
      "4           6044.166161  \n"
     ]
    }
   ],
   "source": [
    "# <------------ TODO ----------------------->\n",
    "# Drop all the rows with null values\n",
    "# (TIP: make sure to reset the index after dropping)\n",
    "df1 = df.dropna().reset_index(drop=True)\n",
    "print(\"\\n=== After Dropping Nulls ===\")\n",
    "print(f\"Shape: {df1.shape}\")\n",
    "print(df1.head())"
   ]
  },
  {
   "cell_type": "code",
   "execution_count": 5,
   "id": "f171b4eb-1470-4820-8c33-4ff0d8db24de",
   "metadata": {},
   "outputs": [
    {
     "name": "stdout",
     "output_type": "stream",
     "text": [
      "\n",
      "=== After Dropping Unnecessary Columns ===\n",
      "Shape: (117, 9)\n",
      "Remaining Columns: ['survived', 'pclass', 'sex', 'age', 'sibsp', 'parch', 'fare', 'embarked', 'fare_age_combination']\n"
     ]
    }
   ],
   "source": [
    "# <------------ TODO ----------------------->\n",
    "# Drop all the feature columns that you may think are not neccessary for the models evaluation\n",
    "# (HINT: around 6-8 columns!)\n",
    "cols_to_drop = ['class', 'who', 'adult_male', 'deck', 'embark_town', 'alive', 'alone', 'pclass_redundant']\n",
    "df2 = df1.drop(columns=cols_to_drop)\n",
    "print(\"\\n=== After Dropping Unnecessary Columns ===\")\n",
    "print(f\"Shape: {df2.shape}\")\n",
    "print(\"Remaining Columns:\", df2.columns.tolist())"
   ]
  },
  {
   "cell_type": "code",
   "execution_count": 6,
   "id": "2c8d824a-ffde-4972-94bc-4bb431c23338",
   "metadata": {},
   "outputs": [
    {
     "name": "stdout",
     "output_type": "stream",
     "text": [
      "\n",
      "=== After Cleaning Columns ===\n",
      "Unique values in 'embarked': ['S' 's' 'C' 'Q' 'q' 'c']\n"
     ]
    }
   ],
   "source": [
    "# <------------ TODO ----------------------->\n",
    "# Clean any relevant columns here\n",
    "# (TIP: Pay attention to the values in the column)\n",
    "df3 = df2.copy()\n",
    "df3['embarked'] = df3['embarked'].str.strip()\n",
    "print(\"\\n=== After Cleaning Columns ===\")\n",
    "print(\"Unique values in 'embarked':\", df3['embarked'].unique())"
   ]
  },
  {
   "cell_type": "code",
   "execution_count": 7,
   "id": "2cc2bc96-2e58-477c-aee3-b635f121291a",
   "metadata": {},
   "outputs": [
    {
     "name": "stdout",
     "output_type": "stream",
     "text": [
      "\n",
      "=== After Encoding Text to Numeric ===\n",
      "   survived  pclass  sex    age  sibsp  parch        fare  embarked  \\\n",
      "0         1       1    2  420.0      1      0   53.284868         2   \n",
      "1         0       1    3   54.0      0      0   51.314334         2   \n",
      "2         1       2    3   34.0      0      0   13.553364         5   \n",
      "3         0       1    3   19.0      3      2  263.176986         5   \n",
      "4         1       1    0   23.0      3      2  262.789833         0   \n",
      "\n",
      "   fare_age_combination  \n",
      "0          22379.644511  \n",
      "1           2770.974017  \n",
      "2            460.814361  \n",
      "3           5000.362740  \n",
      "4           6044.166161  \n"
     ]
    }
   ],
   "source": [
    "# <------------ TODO ----------------------->\n",
    "# Encode all the text values to numeric ones\n",
    "# (TIP: Double check your final dataframe at this point before moving on)\n",
    "le_sex = LabelEncoder()\n",
    "df3['sex'] = le_sex.fit_transform(df3['sex'])\n",
    "le_emb = LabelEncoder()\n",
    "df3['embarked'] = le_emb.fit_transform(df3['embarked'])\n",
    "print(\"\\n=== After Encoding Text to Numeric ===\")\n",
    "print(df3.head())"
   ]
  },
  {
   "cell_type": "code",
   "execution_count": 8,
   "id": "fc25a47e-015e-4660-b31a-6d5ade289a6c",
   "metadata": {},
   "outputs": [
    {
     "name": "stdout",
     "output_type": "stream",
     "text": [
      "\n",
      "=== Model Evaluation ===\n",
      "Accuracy: 0.8333333333333334\n",
      "\n",
      "Classification Report:\n",
      "               precision    recall  f1-score   support\n",
      "\n",
      "           0       1.00      0.20      0.33         5\n",
      "           1       0.83      1.00      0.90        19\n",
      "\n",
      "    accuracy                           0.83        24\n",
      "   macro avg       0.91      0.60      0.62        24\n",
      "weighted avg       0.86      0.83      0.79        24\n",
      "\n",
      "\n",
      "Confusion Matrix:\n",
      " [[ 1  4]\n",
      " [ 0 19]]\n"
     ]
    }
   ],
   "source": [
    "# <------------ TODO ----------------------->\n",
    "# Create and train a classification model of your choosing\n",
    "# Print the accuracy, classification report, and the confusion matrix\n",
    "X = df3.drop('survived', axis=1)\n",
    "y = df3['survived']\n",
    "X_train, X_test, y_train, y_test = train_test_split(X, y, test_size=0.2, random_state=42)\n",
    "\n",
    "model = RandomForestClassifier(random_state=42)\n",
    "model.fit(X_train, y_train)\n",
    "y_pred = model.predict(X_test)\n",
    "\n",
    "print(\"\\n=== Model Evaluation ===\")\n",
    "print(\"Accuracy:\", accuracy_score(y_test, y_pred))\n",
    "print(\"\\nClassification Report:\\n\", classification_report(y_test, y_pred))\n",
    "print(\"\\nConfusion Matrix:\\n\", confusion_matrix(y_test, y_pred))"
   ]
  }
 ],
 "metadata": {
  "kernelspec": {
   "display_name": "venv",
   "language": "python",
   "name": "python3"
  },
  "language_info": {
   "codemirror_mode": {
    "name": "ipython",
    "version": 3
   },
   "file_extension": ".py",
   "mimetype": "text/x-python",
   "name": "python",
   "nbconvert_exporter": "python",
   "pygments_lexer": "ipython3",
   "version": "3.10.11"
  }
 },
 "nbformat": 4,
 "nbformat_minor": 5
}
